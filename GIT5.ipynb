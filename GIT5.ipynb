{
  "nbformat": 4,
  "nbformat_minor": 0,
  "metadata": {
    "colab": {
      "name": "Untitled38.ipynb",
      "provenance": [],
      "collapsed_sections": [],
      "toc_visible": true
    },
    "kernelspec": {
      "name": "python3",
      "display_name": "Python 3"
    },
    "language_info": {
      "name": "python"
    }
  },
  "cells": [
    {
      "cell_type": "code",
      "source": [
        "from pytube import YouTube\n",
        "import pytube\n",
        "import os\n",
        "\n",
        "def main():\n",
        "    video_url = input('Enter YouTube video URL: ')\n",
        "\n",
        "    if os.name == 'nt':\n",
        "        path = os.getcwd() + '\\\\'\n",
        "    else:\n",
        "        path = os.getcwd() + '/'\n",
        "\n",
        "    name = pytube.extract.video_id(video_url)\n",
        "    YouTube(video_url).streams.filter(only_audio=True).first().download(filename=name)\n",
        "    location = path + name + '.mp4'\n",
        "    renametomp3 = path + name + '.mp3'\n",
        "\n",
        "    if os.name == 'nt':\n",
        "        os.system('ren {0} {1}'. format(location, renametomp3))\n",
        "    else:\n",
        "        os.system('mv {0} {1}'. format(location, renametomp3))\n",
        "    \n",
        "if __name__ == '__main__':\n",
        "    main()"
      ],
      "metadata": {
        "id": "bNZKfcAc87j9"
      },
      "execution_count": null,
      "outputs": []
    }
  ]
}